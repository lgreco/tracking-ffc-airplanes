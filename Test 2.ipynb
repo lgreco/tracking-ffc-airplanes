{
  "cells": [
    {
      "cell_type": "markdown",
      "metadata": {
        "colab_type": "text",
        "id": "view-in-github"
      },
      "source": [
        "<a href=\"https://colab.research.google.com/github/lgreco/tracking-ffc-airplanes/blob/main/Test%202.ipynb\" target=\"_parent\"><img src=\"https://colab.research.google.com/assets/colab-badge.svg\" alt=\"Open In Colab\"/></a>"
      ]
    },
    {
      "cell_type": "code",
      "execution_count": 1,
      "metadata": {
        "colab": {
          "base_uri": "https://localhost:8080/"
        },
        "id": "tje0TVM7nUmu",
        "outputId": "1c14927a-487c-4947-a985-398b722c0a6d"
      },
      "outputs": [
        {
          "name": "stdout",
          "output_type": "stream",
          "text": [
            "Requirement already satisfied: googlemaps in /usr/local/python/3.12.1/lib/python3.12/site-packages (4.10.0)\n",
            "Requirement already satisfied: requests<3.0,>=2.20.0 in /home/codespace/.local/lib/python3.12/site-packages (from googlemaps) (2.32.4)\n",
            "Requirement already satisfied: charset_normalizer<4,>=2 in /home/codespace/.local/lib/python3.12/site-packages (from requests<3.0,>=2.20.0->googlemaps) (3.4.2)\n",
            "Requirement already satisfied: idna<4,>=2.5 in /home/codespace/.local/lib/python3.12/site-packages (from requests<3.0,>=2.20.0->googlemaps) (3.10)\n",
            "Requirement already satisfied: urllib3<3,>=1.21.1 in /home/codespace/.local/lib/python3.12/site-packages (from requests<3.0,>=2.20.0->googlemaps) (2.5.0)\n",
            "Requirement already satisfied: certifi>=2017.4.17 in /home/codespace/.local/lib/python3.12/site-packages (from requests<3.0,>=2.20.0->googlemaps) (2025.7.9)\n",
            "Note: you may need to restart the kernel to use updated packages.\n"
          ]
        }
      ],
      "source": [
        "pip install -U googlemaps"
      ]
    },
    {
      "cell_type": "code",
      "execution_count": null,
      "metadata": {
        "colab": {
          "base_uri": "https://localhost:8080/"
        },
        "id": "yxP2wNSc7O8w",
        "outputId": "fa7a8c95-aa42-4234-cfa5-bc7007b1b68f"
      },
      "outputs": [
        {
          "name": "stdout",
          "output_type": "stream",
          "text": [
            "Requirement already satisfied: folium in /usr/local/lib/python3.12/dist-packages (0.20.0)\n",
            "Requirement already satisfied: branca>=0.6.0 in /usr/local/lib/python3.12/dist-packages (from folium) (0.8.1)\n",
            "Requirement already satisfied: jinja2>=2.9 in /usr/local/lib/python3.12/dist-packages (from folium) (3.1.6)\n",
            "Requirement already satisfied: numpy in /usr/local/lib/python3.12/dist-packages (from folium) (2.0.2)\n",
            "Requirement already satisfied: requests in /usr/local/lib/python3.12/dist-packages (from folium) (2.32.4)\n",
            "Requirement already satisfied: xyzservices in /usr/local/lib/python3.12/dist-packages (from folium) (2025.4.0)\n",
            "Requirement already satisfied: MarkupSafe>=2.0 in /usr/local/lib/python3.12/dist-packages (from jinja2>=2.9->folium) (3.0.2)\n",
            "Requirement already satisfied: charset_normalizer<4,>=2 in /usr/local/lib/python3.12/dist-packages (from requests->folium) (3.4.3)\n",
            "Requirement already satisfied: idna<4,>=2.5 in /usr/local/lib/python3.12/dist-packages (from requests->folium) (3.10)\n",
            "Requirement already satisfied: urllib3<3,>=1.21.1 in /usr/local/lib/python3.12/dist-packages (from requests->folium) (2.5.0)\n",
            "Requirement already satisfied: certifi>=2017.4.17 in /usr/local/lib/python3.12/dist-packages (from requests->folium) (2025.8.3)\n"
          ]
        }
      ],
      "source": [
        "! pip install folium"
      ]
    },
    {
      "cell_type": "code",
      "execution_count": 23,
      "metadata": {
        "id": "4JPC8jck8qP6"
      },
      "outputs": [],
      "source": [
        "import folium\n",
        "\n",
        "def test_graph():\n",
        "    m = folium.Map(location=[41.994381,-87.657236], zoom_start=12)\n",
        "\n",
        "    url = \"https://cdn-icons-png.flaticon.com/512/0/614.png\".format\n",
        "    icon_image = url(\"leaf-red.png\")\n",
        "    shadow_image = url(\"leaf-shadow.png\")\n",
        "\n",
        "    icon = folium.CustomIcon(\n",
        "        icon_image,\n",
        "        icon_size=(38, 95),\n",
        "        icon_anchor=(22, 94),\n",
        "        shadow_image=shadow_image,\n",
        "        shadow_size=(50, 64),\n",
        "        shadow_anchor=(4, 62),\n",
        "        popup_anchor=(-3, -76),\n",
        "    )\n",
        "\n",
        "    folium.Marker(\n",
        "        location=[41.994381,-87.657236], icon=icon, popup=\"Leo's Airplane\"\n",
        "    ).add_to(m)\n",
        "\n"
      ]
    }
  ],
  "metadata": {
    "colab": {
      "authorship_tag": "ABX9TyPIXcWCT0DJ1GRurMvUeBnN",
      "include_colab_link": true,
      "provenance": []
    },
    "kernelspec": {
      "display_name": "Python 3",
      "name": "python3"
    },
    "language_info": {
      "codemirror_mode": {
        "name": "ipython",
        "version": 3
      },
      "file_extension": ".py",
      "mimetype": "text/x-python",
      "name": "python",
      "nbconvert_exporter": "python",
      "pygments_lexer": "ipython3",
      "version": "3.12.1"
    }
  },
  "nbformat": 4,
  "nbformat_minor": 0
}
