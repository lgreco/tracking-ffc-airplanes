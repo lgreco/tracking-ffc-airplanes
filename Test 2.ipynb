{
  "nbformat": 4,
  "nbformat_minor": 0,
  "metadata": {
    "colab": {
      "provenance": [],
      "authorship_tag": "ABX9TyPIXcWCT0DJ1GRurMvUeBnN",
      "include_colab_link": true
    },
    "kernelspec": {
      "name": "python3",
      "display_name": "Python 3"
    },
    "language_info": {
      "name": "python"
    }
  },
  "cells": [
    {
      "cell_type": "markdown",
      "metadata": {
        "id": "view-in-github",
        "colab_type": "text"
      },
      "source": [
        "<a href=\"https://colab.research.google.com/github/lgreco/tracking-ffc-airplanes/blob/main/Test%202.ipynb\" target=\"_parent\"><img src=\"https://colab.research.google.com/assets/colab-badge.svg\" alt=\"Open In Colab\"/></a>"
      ]
    },
    {
      "cell_type": "code",
      "execution_count": null,
      "metadata": {
        "colab": {
          "base_uri": "https://localhost:8080/"
        },
        "id": "tje0TVM7nUmu",
        "outputId": "1c14927a-487c-4947-a985-398b722c0a6d"
      },
      "outputs": [
        {
          "output_type": "stream",
          "name": "stdout",
          "text": [
            "Collecting googlemaps\n",
            "  Downloading googlemaps-4.10.0.tar.gz (33 kB)\n",
            "  Preparing metadata (setup.py) ... \u001b[?25l\u001b[?25hdone\n",
            "Requirement already satisfied: requests<3.0,>=2.20.0 in /usr/local/lib/python3.12/dist-packages (from googlemaps) (2.32.4)\n",
            "Requirement already satisfied: charset_normalizer<4,>=2 in /usr/local/lib/python3.12/dist-packages (from requests<3.0,>=2.20.0->googlemaps) (3.4.3)\n",
            "Requirement already satisfied: idna<4,>=2.5 in /usr/local/lib/python3.12/dist-packages (from requests<3.0,>=2.20.0->googlemaps) (3.10)\n",
            "Requirement already satisfied: urllib3<3,>=1.21.1 in /usr/local/lib/python3.12/dist-packages (from requests<3.0,>=2.20.0->googlemaps) (2.5.0)\n",
            "Requirement already satisfied: certifi>=2017.4.17 in /usr/local/lib/python3.12/dist-packages (from requests<3.0,>=2.20.0->googlemaps) (2025.8.3)\n",
            "Building wheels for collected packages: googlemaps\n",
            "  Building wheel for googlemaps (setup.py) ... \u001b[?25l\u001b[?25hdone\n",
            "  Created wheel for googlemaps: filename=googlemaps-4.10.0-py3-none-any.whl size=40714 sha256=ad5ca05541f59c89871d06976e93111b1a52859df83bc5ceb9a59f8717fe1bba\n",
            "  Stored in directory: /root/.cache/pip/wheels/4c/6a/a7/bbc6f5c200032025ee655deb5e163ce8594fa05e67d973aad6\n",
            "Successfully built googlemaps\n",
            "Installing collected packages: googlemaps\n",
            "Successfully installed googlemaps-4.10.0\n"
          ]
        }
      ],
      "source": [
        "pip install -U googlemaps"
      ]
    },
    {
      "cell_type": "code",
      "source": [
        "uname = \"bastow-libby\"\n",
        "!git config --global user.email '$libby.bastow@gmail.com'\n",
        "!git config --global user.name '$bastow-libby'\n",
        "\n",
        "from getpass import getpass\n",
        "password = getpass('Password:')\n",
        "!git clone https://github.com/lgreco/tracking-ffc-airplanes.git\n",
        "%cd tracking-ffc-airplanes/\n",
        "# create a file, then add it to stage\n",
        "!git add test_graph\n",
        "!git commit -m 'commit message'  # commit in Colab\n",
        "!git push origin master          # push to github"
      ],
      "metadata": {
        "colab": {
          "base_uri": "https://localhost:8080/"
        },
        "id": "03kmrLCl5G6l",
        "outputId": "60a3f50a-e1fc-40aa-e53f-a1203d1a406c"
      },
      "execution_count": 24,
      "outputs": [
        {
          "output_type": "stream",
          "name": "stdout",
          "text": [
            "Password:··········\n",
            "Cloning into 'tracking-ffc-airplanes'...\n",
            "remote: Enumerating objects: 29, done.\u001b[K\n",
            "remote: Counting objects: 100% (29/29), done.\u001b[K\n",
            "remote: Compressing objects: 100% (23/23), done.\u001b[K\n",
            "remote: Total 29 (delta 15), reused 13 (delta 6), pack-reused 0 (from 0)\u001b[K\n",
            "Receiving objects: 100% (29/29), 9.62 KiB | 1.92 MiB/s, done.\n",
            "Resolving deltas: 100% (15/15), done.\n",
            "/content/tracking-ffc-airplanes/tracking-ffc-airplanes/tracking-ffc-airplanes\n",
            "fatal: pathspec 'test_graph' did not match any files\n",
            "On branch main\n",
            "Your branch is up to date with 'origin/main'.\n",
            "\n",
            "nothing to commit, working tree clean\n",
            "error: src refspec master does not match any\n",
            "\u001b[31merror: failed to push some refs to 'https://github.com/lgreco/tracking-ffc-airplanes.git'\n",
            "\u001b[m"
          ]
        }
      ]
    },
    {
      "cell_type": "code",
      "source": [
        "! pip install folium"
      ],
      "metadata": {
        "colab": {
          "base_uri": "https://localhost:8080/"
        },
        "id": "yxP2wNSc7O8w",
        "outputId": "fa7a8c95-aa42-4234-cfa5-bc7007b1b68f"
      },
      "execution_count": 5,
      "outputs": [
        {
          "output_type": "stream",
          "name": "stdout",
          "text": [
            "Requirement already satisfied: folium in /usr/local/lib/python3.12/dist-packages (0.20.0)\n",
            "Requirement already satisfied: branca>=0.6.0 in /usr/local/lib/python3.12/dist-packages (from folium) (0.8.1)\n",
            "Requirement already satisfied: jinja2>=2.9 in /usr/local/lib/python3.12/dist-packages (from folium) (3.1.6)\n",
            "Requirement already satisfied: numpy in /usr/local/lib/python3.12/dist-packages (from folium) (2.0.2)\n",
            "Requirement already satisfied: requests in /usr/local/lib/python3.12/dist-packages (from folium) (2.32.4)\n",
            "Requirement already satisfied: xyzservices in /usr/local/lib/python3.12/dist-packages (from folium) (2025.4.0)\n",
            "Requirement already satisfied: MarkupSafe>=2.0 in /usr/local/lib/python3.12/dist-packages (from jinja2>=2.9->folium) (3.0.2)\n",
            "Requirement already satisfied: charset_normalizer<4,>=2 in /usr/local/lib/python3.12/dist-packages (from requests->folium) (3.4.3)\n",
            "Requirement already satisfied: idna<4,>=2.5 in /usr/local/lib/python3.12/dist-packages (from requests->folium) (3.10)\n",
            "Requirement already satisfied: urllib3<3,>=1.21.1 in /usr/local/lib/python3.12/dist-packages (from requests->folium) (2.5.0)\n",
            "Requirement already satisfied: certifi>=2017.4.17 in /usr/local/lib/python3.12/dist-packages (from requests->folium) (2025.8.3)\n"
          ]
        }
      ]
    },
    {
      "cell_type": "code",
      "source": [
        "import folium\n",
        "\n",
        "def test_graph():\n",
        "    m = folium.Map(location=[41.994381,-87.657236], zoom_start=12)\n",
        "\n",
        "    url = \"https://cdn-icons-png.flaticon.com/512/0/614.png\".format\n",
        "    icon_image = url(\"leaf-red.png\")\n",
        "    shadow_image = url(\"leaf-shadow.png\")\n",
        "\n",
        "    icon = folium.CustomIcon(\n",
        "        icon_image,\n",
        "        icon_size=(38, 95),\n",
        "        icon_anchor=(22, 94),\n",
        "        shadow_image=shadow_image,\n",
        "        shadow_size=(50, 64),\n",
        "        shadow_anchor=(4, 62),\n",
        "        popup_anchor=(-3, -76),\n",
        "    )\n",
        "\n",
        "    folium.Marker(\n",
        "        location=[41.994381,-87.657236], icon=icon, popup=\"Leo's Airplane\"\n",
        "    ).add_to(m)\n",
        "\n",
        ""
      ],
      "metadata": {
        "id": "4JPC8jck8qP6"
      },
      "execution_count": 23,
      "outputs": []
    }
  ]
}